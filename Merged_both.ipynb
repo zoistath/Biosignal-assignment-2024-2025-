{
  "nbformat": 4,
  "nbformat_minor": 0,
  "metadata": {
    "colab": {
      "provenance": []
    },
    "kernelspec": {
      "name": "python3",
      "display_name": "Python 3"
    },
    "language_info": {
      "name": "python"
    }
  },
  "cells": [
    {
      "cell_type": "code",
      "source": [
        "import numpy as np\n",
        "import pandas as pd\n",
        "import matplotlib.pyplot as plt\n",
        "import seaborn as sns\n",
        "import warnings\n",
        "warnings.filterwarnings('ignore')"
      ],
      "metadata": {
        "id": "Lij8qt0AKRzB"
      },
      "execution_count": null,
      "outputs": []
    },
    {
      "cell_type": "code",
      "source": [
        "from google.colab import drive\n",
        "drive.mount('/content/drive')\n",
        "import os"
      ],
      "metadata": {
        "colab": {
          "base_uri": "https://localhost:8080/"
        },
        "id": "ml29eIwhBWdg",
        "outputId": "165540f2-8875-4239-9d17-e5fc2fc274c0"
      },
      "execution_count": null,
      "outputs": [
        {
          "output_type": "stream",
          "name": "stdout",
          "text": [
            "Mounted at /content/drive\n"
          ]
        }
      ]
    },
    {
      "cell_type": "code",
      "source": [
        "base_dir = '/content/drive/MyDrive/both'\n",
        "output_dir = '/content/drive/MyDrive/output_both'"
      ],
      "metadata": {
        "id": "pgHmkYWaBknV"
      },
      "execution_count": null,
      "outputs": []
    },
    {
      "cell_type": "code",
      "source": [
        "num_patients = 33\n",
        "num_events = 20"
      ],
      "metadata": {
        "id": "3vC7BHm8CzGW"
      },
      "execution_count": null,
      "outputs": []
    },
    {
      "cell_type": "code",
      "source": [
        "for patient_id in range(1, num_patients + 1):\n",
        "  merged_data =[]\n",
        "\n",
        "#Process all events for each petient\n",
        "  for event_id in range(1, num_events + 1):\n",
        "    file_name = f'pilot{patient_id}_evnt{event_id}_session1_filtered.csv'\n",
        "    file_path = os.path.join(base_dir, file_name)\n",
        "\n",
        "    if os.path.exists(file_path):\n",
        "      event_data = pd.read_csv(file_path , header=None)\n",
        "      merged_data.append(event_data)\n",
        "    else:\n",
        "       print(f\"File not found: {file_path}\")\n",
        "\n",
        "  if merged_data:\n",
        "        combined_data = pd.concat(merged_data, axis=1)\n",
        "        transposed_data = combined_data.T\n",
        "        output_file_name = os.path.join(output_dir,f'pilot{patient_id}_merged.csv')\n",
        "        transposed_data.to_csv(os.path.join(output_dir, output_file_name), index=False , header=False)\n",
        "        output_file_path = os.path.join(output_dir, output_file_name)\n",
        "        print(f\"Combined data saved to: {output_file_path}\")\n",
        "  else:\n",
        "        print(f\"No data found for patient {patient_id}\")\n",
        "\n",
        "\n",
        "\n",
        "\n",
        "\n",
        "\n"
      ],
      "metadata": {
        "colab": {
          "base_uri": "https://localhost:8080/"
        },
        "id": "k7Nq9nnnC8JO",
        "outputId": "a3fe8210-b786-4024-9033-1fdfad882044"
      },
      "execution_count": null,
      "outputs": [
        {
          "output_type": "stream",
          "name": "stdout",
          "text": [
            "Combined data saved to: /content/drive/MyDrive/output_both/pilot1_merged.csv\n",
            "Combined data saved to: /content/drive/MyDrive/output_both/pilot2_merged.csv\n",
            "Combined data saved to: /content/drive/MyDrive/output_both/pilot3_merged.csv\n",
            "Combined data saved to: /content/drive/MyDrive/output_both/pilot4_merged.csv\n",
            "Combined data saved to: /content/drive/MyDrive/output_both/pilot5_merged.csv\n",
            "Combined data saved to: /content/drive/MyDrive/output_both/pilot6_merged.csv\n",
            "Combined data saved to: /content/drive/MyDrive/output_both/pilot7_merged.csv\n",
            "Combined data saved to: /content/drive/MyDrive/output_both/pilot8_merged.csv\n",
            "Combined data saved to: /content/drive/MyDrive/output_both/pilot9_merged.csv\n",
            "Combined data saved to: /content/drive/MyDrive/output_both/pilot10_merged.csv\n",
            "Combined data saved to: /content/drive/MyDrive/output_both/pilot11_merged.csv\n",
            "Combined data saved to: /content/drive/MyDrive/output_both/pilot12_merged.csv\n",
            "File not found: /content/drive/MyDrive/both/pilot13_evnt1_session1_filtered.csv\n",
            "File not found: /content/drive/MyDrive/both/pilot13_evnt2_session1_filtered.csv\n",
            "File not found: /content/drive/MyDrive/both/pilot13_evnt3_session1_filtered.csv\n",
            "File not found: /content/drive/MyDrive/both/pilot13_evnt4_session1_filtered.csv\n",
            "File not found: /content/drive/MyDrive/both/pilot13_evnt5_session1_filtered.csv\n",
            "File not found: /content/drive/MyDrive/both/pilot13_evnt6_session1_filtered.csv\n",
            "File not found: /content/drive/MyDrive/both/pilot13_evnt7_session1_filtered.csv\n",
            "File not found: /content/drive/MyDrive/both/pilot13_evnt8_session1_filtered.csv\n",
            "File not found: /content/drive/MyDrive/both/pilot13_evnt9_session1_filtered.csv\n",
            "File not found: /content/drive/MyDrive/both/pilot13_evnt10_session1_filtered.csv\n",
            "File not found: /content/drive/MyDrive/both/pilot13_evnt11_session1_filtered.csv\n",
            "File not found: /content/drive/MyDrive/both/pilot13_evnt12_session1_filtered.csv\n",
            "File not found: /content/drive/MyDrive/both/pilot13_evnt13_session1_filtered.csv\n",
            "File not found: /content/drive/MyDrive/both/pilot13_evnt14_session1_filtered.csv\n",
            "File not found: /content/drive/MyDrive/both/pilot13_evnt15_session1_filtered.csv\n",
            "File not found: /content/drive/MyDrive/both/pilot13_evnt16_session1_filtered.csv\n",
            "File not found: /content/drive/MyDrive/both/pilot13_evnt17_session1_filtered.csv\n",
            "File not found: /content/drive/MyDrive/both/pilot13_evnt18_session1_filtered.csv\n",
            "File not found: /content/drive/MyDrive/both/pilot13_evnt19_session1_filtered.csv\n",
            "File not found: /content/drive/MyDrive/both/pilot13_evnt20_session1_filtered.csv\n",
            "No data found for patient 13\n",
            "Combined data saved to: /content/drive/MyDrive/output_both/pilot14_merged.csv\n",
            "Combined data saved to: /content/drive/MyDrive/output_both/pilot15_merged.csv\n",
            "Combined data saved to: /content/drive/MyDrive/output_both/pilot16_merged.csv\n",
            "Combined data saved to: /content/drive/MyDrive/output_both/pilot17_merged.csv\n",
            "Combined data saved to: /content/drive/MyDrive/output_both/pilot18_merged.csv\n",
            "Combined data saved to: /content/drive/MyDrive/output_both/pilot19_merged.csv\n",
            "Combined data saved to: /content/drive/MyDrive/output_both/pilot20_merged.csv\n",
            "Combined data saved to: /content/drive/MyDrive/output_both/pilot21_merged.csv\n",
            "Combined data saved to: /content/drive/MyDrive/output_both/pilot22_merged.csv\n",
            "Combined data saved to: /content/drive/MyDrive/output_both/pilot23_merged.csv\n",
            "Combined data saved to: /content/drive/MyDrive/output_both/pilot24_merged.csv\n",
            "Combined data saved to: /content/drive/MyDrive/output_both/pilot25_merged.csv\n",
            "Combined data saved to: /content/drive/MyDrive/output_both/pilot26_merged.csv\n",
            "Combined data saved to: /content/drive/MyDrive/output_both/pilot27_merged.csv\n",
            "Combined data saved to: /content/drive/MyDrive/output_both/pilot28_merged.csv\n",
            "Combined data saved to: /content/drive/MyDrive/output_both/pilot29_merged.csv\n",
            "Combined data saved to: /content/drive/MyDrive/output_both/pilot30_merged.csv\n",
            "Combined data saved to: /content/drive/MyDrive/output_both/pilot31_merged.csv\n",
            "Combined data saved to: /content/drive/MyDrive/output_both/pilot32_merged.csv\n",
            "Combined data saved to: /content/drive/MyDrive/output_both/pilot33_merged.csv\n"
          ]
        }
      ]
    }
  ]
}