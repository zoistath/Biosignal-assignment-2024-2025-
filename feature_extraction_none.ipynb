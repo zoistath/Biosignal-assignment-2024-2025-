{
  "cells": [
    {
      "cell_type": "code",
      "execution_count": null,
      "metadata": {
        "colab": {
          "base_uri": "https://localhost:8080/"
        },
        "id": "44V5kzOoKWMp",
        "outputId": "8b1c3858-237e-4d1a-dc4c-efde57e1d4ad"
      },
      "outputs": [
        {
          "output_type": "stream",
          "name": "stdout",
          "text": [
            "Mounted at /content/drive\n"
          ]
        }
      ],
      "source": [
        "import pandas as pd\n",
        "import numpy as np\n",
        "import os\n",
        "from google.colab import drive\n",
        "drive.mount('/content/drive')\n",
        "base_dir = '/content/drive/MyDrive/mean1_none'\n",
        "output_dir = '/content/drive/MyDrive/features_none'\n",
        "os.makedirs(output_dir, exist_ok=True)\n"
      ]
    },
    {
      "cell_type": "code",
      "execution_count": null,
      "metadata": {
        "colab": {
          "base_uri": "https://localhost:8080/"
        },
        "id": "jcmWHiEOKUN_",
        "outputId": "195bd85f-b1ad-4d97-d6d7-680aa28364e5"
      },
      "outputs": [
        {
          "name": "stderr",
          "output_type": "stream",
          "text": [
            "/usr/local/lib/python3.10/dist-packages/scipy/stats/_entropy.py:144: RuntimeWarning: divide by zero encountered in divide\n",
            "  pk = 1.0*pk / np.sum(pk, axis=axis, keepdims=True)\n",
            "/usr/local/lib/python3.10/dist-packages/scipy/stats/_entropy.py:144: RuntimeWarning: divide by zero encountered in divide\n",
            "  pk = 1.0*pk / np.sum(pk, axis=axis, keepdims=True)\n",
            "/usr/local/lib/python3.10/dist-packages/scipy/stats/_entropy.py:144: RuntimeWarning: divide by zero encountered in divide\n",
            "  pk = 1.0*pk / np.sum(pk, axis=axis, keepdims=True)\n",
            "/usr/local/lib/python3.10/dist-packages/scipy/stats/_entropy.py:144: RuntimeWarning: divide by zero encountered in divide\n",
            "  pk = 1.0*pk / np.sum(pk, axis=axis, keepdims=True)\n",
            "/usr/local/lib/python3.10/dist-packages/scipy/stats/_entropy.py:144: RuntimeWarning: divide by zero encountered in divide\n",
            "  pk = 1.0*pk / np.sum(pk, axis=axis, keepdims=True)\n",
            "/usr/local/lib/python3.10/dist-packages/scipy/stats/_entropy.py:144: RuntimeWarning: divide by zero encountered in divide\n",
            "  pk = 1.0*pk / np.sum(pk, axis=axis, keepdims=True)\n",
            "/usr/local/lib/python3.10/dist-packages/scipy/stats/_entropy.py:144: RuntimeWarning: divide by zero encountered in divide\n",
            "  pk = 1.0*pk / np.sum(pk, axis=axis, keepdims=True)\n",
            "/usr/local/lib/python3.10/dist-packages/scipy/stats/_entropy.py:144: RuntimeWarning: divide by zero encountered in divide\n",
            "  pk = 1.0*pk / np.sum(pk, axis=axis, keepdims=True)\n",
            "/usr/local/lib/python3.10/dist-packages/scipy/stats/_entropy.py:144: RuntimeWarning: divide by zero encountered in divide\n",
            "  pk = 1.0*pk / np.sum(pk, axis=axis, keepdims=True)\n",
            "/usr/local/lib/python3.10/dist-packages/scipy/stats/_entropy.py:144: RuntimeWarning: divide by zero encountered in divide\n",
            "  pk = 1.0*pk / np.sum(pk, axis=axis, keepdims=True)\n",
            "/usr/local/lib/python3.10/dist-packages/scipy/stats/_entropy.py:144: RuntimeWarning: divide by zero encountered in divide\n",
            "  pk = 1.0*pk / np.sum(pk, axis=axis, keepdims=True)\n",
            "/usr/local/lib/python3.10/dist-packages/scipy/stats/_entropy.py:144: RuntimeWarning: divide by zero encountered in divide\n",
            "  pk = 1.0*pk / np.sum(pk, axis=axis, keepdims=True)\n",
            "/usr/local/lib/python3.10/dist-packages/scipy/stats/_entropy.py:144: RuntimeWarning: divide by zero encountered in divide\n",
            "  pk = 1.0*pk / np.sum(pk, axis=axis, keepdims=True)\n",
            "/usr/local/lib/python3.10/dist-packages/scipy/stats/_entropy.py:144: RuntimeWarning: divide by zero encountered in divide\n",
            "  pk = 1.0*pk / np.sum(pk, axis=axis, keepdims=True)\n",
            "/usr/local/lib/python3.10/dist-packages/scipy/stats/_entropy.py:144: RuntimeWarning: divide by zero encountered in divide\n",
            "  pk = 1.0*pk / np.sum(pk, axis=axis, keepdims=True)\n",
            "/usr/local/lib/python3.10/dist-packages/scipy/stats/_entropy.py:144: RuntimeWarning: divide by zero encountered in divide\n",
            "  pk = 1.0*pk / np.sum(pk, axis=axis, keepdims=True)\n",
            "/usr/local/lib/python3.10/dist-packages/scipy/stats/_entropy.py:144: RuntimeWarning: divide by zero encountered in divide\n",
            "  pk = 1.0*pk / np.sum(pk, axis=axis, keepdims=True)\n",
            "/usr/local/lib/python3.10/dist-packages/scipy/stats/_entropy.py:144: RuntimeWarning: divide by zero encountered in divide\n",
            "  pk = 1.0*pk / np.sum(pk, axis=axis, keepdims=True)\n",
            "/usr/local/lib/python3.10/dist-packages/scipy/stats/_entropy.py:144: RuntimeWarning: divide by zero encountered in divide\n",
            "  pk = 1.0*pk / np.sum(pk, axis=axis, keepdims=True)\n",
            "/usr/local/lib/python3.10/dist-packages/scipy/stats/_entropy.py:144: RuntimeWarning: divide by zero encountered in divide\n",
            "  pk = 1.0*pk / np.sum(pk, axis=axis, keepdims=True)\n",
            "/usr/local/lib/python3.10/dist-packages/scipy/stats/_entropy.py:144: RuntimeWarning: divide by zero encountered in divide\n",
            "  pk = 1.0*pk / np.sum(pk, axis=axis, keepdims=True)\n",
            "/usr/local/lib/python3.10/dist-packages/scipy/stats/_entropy.py:144: RuntimeWarning: divide by zero encountered in divide\n",
            "  pk = 1.0*pk / np.sum(pk, axis=axis, keepdims=True)\n",
            "/usr/local/lib/python3.10/dist-packages/scipy/stats/_entropy.py:144: RuntimeWarning: divide by zero encountered in divide\n",
            "  pk = 1.0*pk / np.sum(pk, axis=axis, keepdims=True)\n",
            "/usr/local/lib/python3.10/dist-packages/scipy/stats/_entropy.py:144: RuntimeWarning: divide by zero encountered in divide\n",
            "  pk = 1.0*pk / np.sum(pk, axis=axis, keepdims=True)\n",
            "/usr/local/lib/python3.10/dist-packages/scipy/stats/_entropy.py:144: RuntimeWarning: divide by zero encountered in divide\n",
            "  pk = 1.0*pk / np.sum(pk, axis=axis, keepdims=True)\n",
            "/usr/local/lib/python3.10/dist-packages/scipy/stats/_entropy.py:144: RuntimeWarning: divide by zero encountered in divide\n",
            "  pk = 1.0*pk / np.sum(pk, axis=axis, keepdims=True)\n",
            "/usr/local/lib/python3.10/dist-packages/scipy/stats/_entropy.py:144: RuntimeWarning: divide by zero encountered in divide\n",
            "  pk = 1.0*pk / np.sum(pk, axis=axis, keepdims=True)\n",
            "/usr/local/lib/python3.10/dist-packages/scipy/stats/_entropy.py:144: RuntimeWarning: divide by zero encountered in divide\n",
            "  pk = 1.0*pk / np.sum(pk, axis=axis, keepdims=True)\n",
            "/usr/local/lib/python3.10/dist-packages/scipy/stats/_entropy.py:144: RuntimeWarning: divide by zero encountered in divide\n",
            "  pk = 1.0*pk / np.sum(pk, axis=axis, keepdims=True)\n",
            "/usr/local/lib/python3.10/dist-packages/scipy/stats/_entropy.py:144: RuntimeWarning: divide by zero encountered in divide\n",
            "  pk = 1.0*pk / np.sum(pk, axis=axis, keepdims=True)\n",
            "/usr/local/lib/python3.10/dist-packages/scipy/stats/_entropy.py:144: RuntimeWarning: divide by zero encountered in divide\n",
            "  pk = 1.0*pk / np.sum(pk, axis=axis, keepdims=True)\n"
          ]
        },
        {
          "name": "stdout",
          "output_type": "stream",
          "text": [
            "Feature extraction complete. Features saved in: /content/drive/MyDrive/features_none\n"
          ]
        },
        {
          "name": "stderr",
          "output_type": "stream",
          "text": [
            "/usr/local/lib/python3.10/dist-packages/scipy/stats/_entropy.py:144: RuntimeWarning: divide by zero encountered in divide\n",
            "  pk = 1.0*pk / np.sum(pk, axis=axis, keepdims=True)\n"
          ]
        }
      ],
      "source": [
        "from scipy.stats import skew, kurtosis, variation\n",
        "from scipy.signal import welch\n",
        "from scipy.stats import entropy\n",
        "\n",
        "def compute_time_domain_features(x):\n",
        "    features = {}\n",
        "    features['mean'] = np.mean(x)\n",
        "    features['variance'] = np.var(x)\n",
        "    features['skewness'] = skew(x)\n",
        "    features['kurtosis'] = kurtosis(x)\n",
        "    features['std'] = np.std(x)\n",
        "    features['median'] = np.median(x)\n",
        "    features['zcr'] = ((x[:-1] * x[1:]) < 0).sum() / len(x)\n",
        "    features['cv'] = variation(x) if x.mean() != 0 else np.nan\n",
        "    features['rms'] = np.sqrt(np.mean(x**2)) if len(x) > 0 else np.nan\n",
        "    features['p2p'] = np.ptp(x)  # Peak-to-peak amplitude\n",
        "    features['sampEn'] = entropy(x) if len(x) > 1 else np.nan\n",
        "    return features\n",
        "\n",
        "patient_files = [f for f in os.listdir(base_dir) if f.endswith('.csv')]\n",
        "\n",
        "for file_name in patient_files:\n",
        "    file_path = os.path.join(base_dir, file_name)\n",
        "    data = pd.read_csv(file_path, header=None)\n",
        "\n",
        "    all_features = []\n",
        "\n",
        "    # Extract features for each row (channel)\n",
        "    for row_index in range(data.shape[0]):\n",
        "        row_data = data.iloc[row_index].values\n",
        "        features = compute_time_domain_features(row_data)\n",
        "        features['row'] = row_index\n",
        "        all_features.append(features)\n",
        "\n",
        "    features_df = pd.DataFrame(all_features)\n",
        "    output_file = os.path.join(output_dir, file_name.replace('.csv', '_features.csv'))\n",
        "    features_df.to_csv(output_file, index=False)\n",
        "\n",
        "print(\"Feature extraction complete. Features saved in:\", output_dir)\n"
      ]
    }
  ],
  "metadata": {
    "colab": {
      "provenance": []
    },
    "kernelspec": {
      "display_name": "Python 3",
      "name": "python3"
    },
    "language_info": {
      "name": "python"
    }
  },
  "nbformat": 4,
  "nbformat_minor": 0
}