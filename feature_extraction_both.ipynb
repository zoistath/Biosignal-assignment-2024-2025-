{
  "nbformat": 4,
  "nbformat_minor": 0,
  "metadata": {
    "colab": {
      "provenance": []
    },
    "kernelspec": {
      "name": "python3",
      "display_name": "Python 3"
    },
    "language_info": {
      "name": "python"
    }
  },
  "cells": [
    {
      "cell_type": "code",
      "execution_count": null,
      "metadata": {
        "colab": {
          "base_uri": "https://localhost:8080/"
        },
        "id": "IuR_EZGnx6at",
        "outputId": "28fbb886-9a5d-4e39-b658-fe39375b5f3c"
      },
      "outputs": [
        {
          "output_type": "stream",
          "name": "stdout",
          "text": [
            "Drive already mounted at /content/drive; to attempt to forcibly remount, call drive.mount(\"/content/drive\", force_remount=True).\n"
          ]
        }
      ],
      "source": [
        "import pandas as pd\n",
        "import numpy as np\n",
        "import os\n",
        "from google.colab import drive\n",
        "drive.mount('/content/drive')\n",
        "base_dir = '/content/drive/MyDrive/mean1_both'\n",
        "output_dir = '/content/drive/MyDrive/features_both'\n",
        "os.makedirs(output_dir, exist_ok=True)\n"
      ]
    },
    {
      "cell_type": "code",
      "source": [
        "from scipy.stats import skew, kurtosis, variation\n",
        "from scipy.signal import welch\n",
        "from scipy.stats import entropy\n",
        "from google.colab import drive\n",
        "\n",
        "def compute_time_domain_features(x):\n",
        "    features = {}\n",
        "    features['mean'] = np.mean(x)\n",
        "    features['variance'] = np.var(x)\n",
        "    features['skewness'] = skew(x)\n",
        "    features['kurtosis'] = kurtosis(x)\n",
        "    features['std'] = np.std(x)\n",
        "    features['median'] = np.median(x)\n",
        "    features['zcr'] = ((x[:-1] * x[1:]) < 0).sum() / len(x)\n",
        "    features['cv'] = variation(x) if x.mean() != 0 else np.nan\n",
        "    features['rms'] = np.sqrt(np.mean(x**2)) if len(x) > 0 else np.nan\n",
        "    features['p2p'] = np.ptp(x)  # Peak-to-peak amplitude\n",
        "    features['sampEn'] = entropy(x) if len(x) > 1 else np.nan\n",
        "    return features\n",
        "\n",
        "patient_files = [f for f in os.listdir(base_dir) if f.endswith('.csv')]\n",
        "\n",
        "for file_name in patient_files:\n",
        "    file_path = os.path.join(base_dir, file_name)\n",
        "    data = pd.read_csv(file_path, header=None)\n",
        "\n",
        "    all_features = []\n",
        "\n",
        "    for row_index in range(data.shape[0]):\n",
        "        row_data = data.iloc[row_index].values\n",
        "        features = compute_time_domain_features(row_data)\n",
        "        features['row'] = row_index\n",
        "        all_features.append(features)\n",
        "\n",
        "    features_df = pd.DataFrame(all_features)\n",
        "    output_file = os.path.join(output_dir, file_name.replace('.csv', '_features.csv'))\n",
        "    features_df.to_csv(output_file, index=False)\n",
        "\n",
        "print(\"Feature extraction complete. Features saved in:\", output_dir)\n"
      ],
      "metadata": {
        "colab": {
          "base_uri": "https://localhost:8080/"
        },
        "id": "PXz8yuKEzbUv",
        "outputId": "708af7d9-eb0a-4104-eccc-01c9057a0d0d"
      },
      "execution_count": null,
      "outputs": [
        {
          "output_type": "stream",
          "name": "stderr",
          "text": [
            "/usr/local/lib/python3.10/dist-packages/scipy/stats/_entropy.py:144: RuntimeWarning: divide by zero encountered in divide\n",
            "  pk = 1.0*pk / np.sum(pk, axis=axis, keepdims=True)\n",
            "/usr/local/lib/python3.10/dist-packages/scipy/stats/_entropy.py:144: RuntimeWarning: divide by zero encountered in divide\n",
            "  pk = 1.0*pk / np.sum(pk, axis=axis, keepdims=True)\n",
            "/usr/local/lib/python3.10/dist-packages/scipy/stats/_entropy.py:144: RuntimeWarning: divide by zero encountered in divide\n",
            "  pk = 1.0*pk / np.sum(pk, axis=axis, keepdims=True)\n",
            "/usr/local/lib/python3.10/dist-packages/scipy/stats/_entropy.py:144: RuntimeWarning: divide by zero encountered in divide\n",
            "  pk = 1.0*pk / np.sum(pk, axis=axis, keepdims=True)\n",
            "/usr/local/lib/python3.10/dist-packages/scipy/stats/_entropy.py:144: RuntimeWarning: divide by zero encountered in divide\n",
            "  pk = 1.0*pk / np.sum(pk, axis=axis, keepdims=True)\n",
            "/usr/local/lib/python3.10/dist-packages/scipy/stats/_entropy.py:144: RuntimeWarning: divide by zero encountered in divide\n",
            "  pk = 1.0*pk / np.sum(pk, axis=axis, keepdims=True)\n",
            "/usr/local/lib/python3.10/dist-packages/scipy/stats/_entropy.py:144: RuntimeWarning: divide by zero encountered in divide\n",
            "  pk = 1.0*pk / np.sum(pk, axis=axis, keepdims=True)\n",
            "/usr/local/lib/python3.10/dist-packages/scipy/stats/_entropy.py:144: RuntimeWarning: divide by zero encountered in divide\n",
            "  pk = 1.0*pk / np.sum(pk, axis=axis, keepdims=True)\n",
            "/usr/local/lib/python3.10/dist-packages/scipy/stats/_entropy.py:144: RuntimeWarning: divide by zero encountered in divide\n",
            "  pk = 1.0*pk / np.sum(pk, axis=axis, keepdims=True)\n",
            "/usr/local/lib/python3.10/dist-packages/scipy/stats/_entropy.py:144: RuntimeWarning: divide by zero encountered in divide\n",
            "  pk = 1.0*pk / np.sum(pk, axis=axis, keepdims=True)\n",
            "/usr/local/lib/python3.10/dist-packages/scipy/stats/_entropy.py:144: RuntimeWarning: divide by zero encountered in divide\n",
            "  pk = 1.0*pk / np.sum(pk, axis=axis, keepdims=True)\n",
            "/usr/local/lib/python3.10/dist-packages/scipy/stats/_entropy.py:144: RuntimeWarning: divide by zero encountered in divide\n",
            "  pk = 1.0*pk / np.sum(pk, axis=axis, keepdims=True)\n",
            "/usr/local/lib/python3.10/dist-packages/scipy/stats/_entropy.py:144: RuntimeWarning: divide by zero encountered in divide\n",
            "  pk = 1.0*pk / np.sum(pk, axis=axis, keepdims=True)\n",
            "/usr/local/lib/python3.10/dist-packages/scipy/stats/_entropy.py:144: RuntimeWarning: divide by zero encountered in divide\n",
            "  pk = 1.0*pk / np.sum(pk, axis=axis, keepdims=True)\n",
            "/usr/local/lib/python3.10/dist-packages/scipy/stats/_entropy.py:144: RuntimeWarning: divide by zero encountered in divide\n",
            "  pk = 1.0*pk / np.sum(pk, axis=axis, keepdims=True)\n",
            "/usr/local/lib/python3.10/dist-packages/scipy/stats/_entropy.py:144: RuntimeWarning: divide by zero encountered in divide\n",
            "  pk = 1.0*pk / np.sum(pk, axis=axis, keepdims=True)\n",
            "/usr/local/lib/python3.10/dist-packages/scipy/stats/_entropy.py:144: RuntimeWarning: divide by zero encountered in divide\n",
            "  pk = 1.0*pk / np.sum(pk, axis=axis, keepdims=True)\n",
            "/usr/local/lib/python3.10/dist-packages/scipy/stats/_entropy.py:144: RuntimeWarning: divide by zero encountered in divide\n",
            "  pk = 1.0*pk / np.sum(pk, axis=axis, keepdims=True)\n",
            "/usr/local/lib/python3.10/dist-packages/scipy/stats/_entropy.py:144: RuntimeWarning: divide by zero encountered in divide\n",
            "  pk = 1.0*pk / np.sum(pk, axis=axis, keepdims=True)\n",
            "/usr/local/lib/python3.10/dist-packages/scipy/stats/_entropy.py:144: RuntimeWarning: divide by zero encountered in divide\n",
            "  pk = 1.0*pk / np.sum(pk, axis=axis, keepdims=True)\n",
            "/usr/local/lib/python3.10/dist-packages/scipy/stats/_entropy.py:144: RuntimeWarning: divide by zero encountered in divide\n",
            "  pk = 1.0*pk / np.sum(pk, axis=axis, keepdims=True)\n",
            "/usr/local/lib/python3.10/dist-packages/scipy/stats/_entropy.py:144: RuntimeWarning: divide by zero encountered in divide\n",
            "  pk = 1.0*pk / np.sum(pk, axis=axis, keepdims=True)\n",
            "/usr/local/lib/python3.10/dist-packages/scipy/stats/_entropy.py:144: RuntimeWarning: divide by zero encountered in divide\n",
            "  pk = 1.0*pk / np.sum(pk, axis=axis, keepdims=True)\n",
            "/usr/local/lib/python3.10/dist-packages/scipy/stats/_entropy.py:144: RuntimeWarning: divide by zero encountered in divide\n",
            "  pk = 1.0*pk / np.sum(pk, axis=axis, keepdims=True)\n",
            "/usr/local/lib/python3.10/dist-packages/scipy/stats/_entropy.py:144: RuntimeWarning: divide by zero encountered in divide\n",
            "  pk = 1.0*pk / np.sum(pk, axis=axis, keepdims=True)\n",
            "/usr/local/lib/python3.10/dist-packages/scipy/stats/_entropy.py:144: RuntimeWarning: divide by zero encountered in divide\n",
            "  pk = 1.0*pk / np.sum(pk, axis=axis, keepdims=True)\n",
            "/usr/local/lib/python3.10/dist-packages/scipy/stats/_entropy.py:144: RuntimeWarning: divide by zero encountered in divide\n",
            "  pk = 1.0*pk / np.sum(pk, axis=axis, keepdims=True)\n",
            "/usr/local/lib/python3.10/dist-packages/scipy/stats/_entropy.py:144: RuntimeWarning: divide by zero encountered in divide\n",
            "  pk = 1.0*pk / np.sum(pk, axis=axis, keepdims=True)\n",
            "/usr/local/lib/python3.10/dist-packages/scipy/stats/_entropy.py:144: RuntimeWarning: divide by zero encountered in divide\n",
            "  pk = 1.0*pk / np.sum(pk, axis=axis, keepdims=True)\n",
            "/usr/local/lib/python3.10/dist-packages/scipy/stats/_entropy.py:144: RuntimeWarning: divide by zero encountered in divide\n",
            "  pk = 1.0*pk / np.sum(pk, axis=axis, keepdims=True)\n"
          ]
        },
        {
          "output_type": "stream",
          "name": "stdout",
          "text": [
            "Feature extraction complete. Features saved in: /content/drive/MyDrive/features_both\n"
          ]
        },
        {
          "output_type": "stream",
          "name": "stderr",
          "text": [
            "/usr/local/lib/python3.10/dist-packages/scipy/stats/_entropy.py:144: RuntimeWarning: divide by zero encountered in divide\n",
            "  pk = 1.0*pk / np.sum(pk, axis=axis, keepdims=True)\n"
          ]
        }
      ]
    }
  ]
}