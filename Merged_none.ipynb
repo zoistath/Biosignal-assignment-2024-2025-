{
  "nbformat": 4,
  "nbformat_minor": 0,
  "metadata": {
    "colab": {
      "provenance": []
    },
    "kernelspec": {
      "name": "python3",
      "display_name": "Python 3"
    },
    "language_info": {
      "name": "python"
    }
  },
  "cells": [
    {
      "cell_type": "code",
      "source": [
        "import numpy as np\n",
        "import pandas as pd\n",
        "import matplotlib.pyplot as plt\n",
        "import seaborn as sns\n",
        "import warnings\n",
        "warnings.filterwarnings('ignore')"
      ],
      "metadata": {
        "id": "Lij8qt0AKRzB"
      },
      "execution_count": null,
      "outputs": []
    },
    {
      "cell_type": "code",
      "source": [
        "from google.colab import drive\n",
        "drive.mount('/content/drive')\n",
        "import os"
      ],
      "metadata": {
        "colab": {
          "base_uri": "https://localhost:8080/"
        },
        "id": "ml29eIwhBWdg",
        "outputId": "4c7116a7-9290-4c73-c04e-7f0d72c93f68"
      },
      "execution_count": null,
      "outputs": [
        {
          "output_type": "stream",
          "name": "stdout",
          "text": [
            "Drive already mounted at /content/drive; to attempt to forcibly remount, call drive.mount(\"/content/drive\", force_remount=True).\n"
          ]
        }
      ]
    },
    {
      "cell_type": "code",
      "source": [
        "base_dir = '/content/drive/MyDrive/none'\n",
        "output_dir = '/content/drive/MyDrive/output_none'"
      ],
      "metadata": {
        "id": "pgHmkYWaBknV"
      },
      "execution_count": null,
      "outputs": []
    },
    {
      "cell_type": "code",
      "source": [
        "num_patients = 33\n",
        "num_events = 20"
      ],
      "metadata": {
        "id": "3vC7BHm8CzGW"
      },
      "execution_count": null,
      "outputs": []
    },
    {
      "cell_type": "code",
      "source": [
        "for patient_id in range(1, num_patients + 1):\n",
        "  merged_data =[]\n",
        "\n",
        "#Process all events for each petient\n",
        "  for event_id in range(1, num_events + 1):\n",
        "    file_name = f'pilot{patient_id}_evnt{event_id}_session1_filtered.csv'\n",
        "    file_path = os.path.join(base_dir, file_name)\n",
        "\n",
        "    if os.path.exists(file_path):\n",
        "      event_data = pd.read_csv(file_path , header=None)\n",
        "      merged_data.append(event_data)\n",
        "    else:\n",
        "       print(f\"File not found: {file_path}\")\n",
        "\n",
        "  if merged_data:\n",
        "        combined_data = pd.concat(merged_data, axis=1)\n",
        "        transposed_data = combined_data.T\n",
        "        output_file_name = os.path.join(output_dir,f'pilot{patient_id}_merged.csv')\n",
        "        transposed_data.to_csv(os.path.join(output_dir, output_file_name), index=False , header=False)\n",
        "        output_file_path = os.path.join(output_dir, output_file_name)\n",
        "        print(f\"Combined data saved to: {output_file_path}\")\n",
        "  else:\n",
        "        print(f\"No data found for patient {patient_id}\")\n",
        "\n",
        "\n",
        "\n",
        "\n",
        "\n",
        "\n"
      ],
      "metadata": {
        "colab": {
          "base_uri": "https://localhost:8080/"
        },
        "id": "k7Nq9nnnC8JO",
        "outputId": "af2eaa03-4131-49f6-d9b6-a7a8b0aa6d58"
      },
      "execution_count": null,
      "outputs": [
        {
          "output_type": "stream",
          "name": "stdout",
          "text": [
            "Combined data saved to: /content/drive/MyDrive/output_none/pilot1_merged.csv\n",
            "Combined data saved to: /content/drive/MyDrive/output_none/pilot2_merged.csv\n",
            "Combined data saved to: /content/drive/MyDrive/output_none/pilot3_merged.csv\n",
            "Combined data saved to: /content/drive/MyDrive/output_none/pilot4_merged.csv\n",
            "Combined data saved to: /content/drive/MyDrive/output_none/pilot5_merged.csv\n",
            "Combined data saved to: /content/drive/MyDrive/output_none/pilot6_merged.csv\n",
            "Combined data saved to: /content/drive/MyDrive/output_none/pilot7_merged.csv\n",
            "Combined data saved to: /content/drive/MyDrive/output_none/pilot8_merged.csv\n",
            "Combined data saved to: /content/drive/MyDrive/output_none/pilot9_merged.csv\n",
            "Combined data saved to: /content/drive/MyDrive/output_none/pilot10_merged.csv\n",
            "Combined data saved to: /content/drive/MyDrive/output_none/pilot11_merged.csv\n",
            "Combined data saved to: /content/drive/MyDrive/output_none/pilot12_merged.csv\n",
            "File not found: /content/drive/MyDrive/none/pilot13_evnt1_session1_filtered.csv\n",
            "File not found: /content/drive/MyDrive/none/pilot13_evnt2_session1_filtered.csv\n",
            "File not found: /content/drive/MyDrive/none/pilot13_evnt3_session1_filtered.csv\n",
            "File not found: /content/drive/MyDrive/none/pilot13_evnt4_session1_filtered.csv\n",
            "File not found: /content/drive/MyDrive/none/pilot13_evnt5_session1_filtered.csv\n",
            "File not found: /content/drive/MyDrive/none/pilot13_evnt6_session1_filtered.csv\n",
            "File not found: /content/drive/MyDrive/none/pilot13_evnt7_session1_filtered.csv\n",
            "File not found: /content/drive/MyDrive/none/pilot13_evnt8_session1_filtered.csv\n",
            "File not found: /content/drive/MyDrive/none/pilot13_evnt9_session1_filtered.csv\n",
            "File not found: /content/drive/MyDrive/none/pilot13_evnt10_session1_filtered.csv\n",
            "File not found: /content/drive/MyDrive/none/pilot13_evnt11_session1_filtered.csv\n",
            "File not found: /content/drive/MyDrive/none/pilot13_evnt12_session1_filtered.csv\n",
            "File not found: /content/drive/MyDrive/none/pilot13_evnt13_session1_filtered.csv\n",
            "File not found: /content/drive/MyDrive/none/pilot13_evnt14_session1_filtered.csv\n",
            "File not found: /content/drive/MyDrive/none/pilot13_evnt15_session1_filtered.csv\n",
            "File not found: /content/drive/MyDrive/none/pilot13_evnt16_session1_filtered.csv\n",
            "File not found: /content/drive/MyDrive/none/pilot13_evnt17_session1_filtered.csv\n",
            "File not found: /content/drive/MyDrive/none/pilot13_evnt18_session1_filtered.csv\n",
            "File not found: /content/drive/MyDrive/none/pilot13_evnt19_session1_filtered.csv\n",
            "File not found: /content/drive/MyDrive/none/pilot13_evnt20_session1_filtered.csv\n",
            "No data found for patient 13\n",
            "Combined data saved to: /content/drive/MyDrive/output_none/pilot14_merged.csv\n",
            "Combined data saved to: /content/drive/MyDrive/output_none/pilot15_merged.csv\n",
            "Combined data saved to: /content/drive/MyDrive/output_none/pilot16_merged.csv\n",
            "Combined data saved to: /content/drive/MyDrive/output_none/pilot17_merged.csv\n",
            "Combined data saved to: /content/drive/MyDrive/output_none/pilot18_merged.csv\n",
            "Combined data saved to: /content/drive/MyDrive/output_none/pilot19_merged.csv\n",
            "Combined data saved to: /content/drive/MyDrive/output_none/pilot20_merged.csv\n",
            "Combined data saved to: /content/drive/MyDrive/output_none/pilot21_merged.csv\n",
            "Combined data saved to: /content/drive/MyDrive/output_none/pilot22_merged.csv\n",
            "Combined data saved to: /content/drive/MyDrive/output_none/pilot23_merged.csv\n",
            "Combined data saved to: /content/drive/MyDrive/output_none/pilot24_merged.csv\n",
            "Combined data saved to: /content/drive/MyDrive/output_none/pilot25_merged.csv\n",
            "Combined data saved to: /content/drive/MyDrive/output_none/pilot26_merged.csv\n",
            "Combined data saved to: /content/drive/MyDrive/output_none/pilot27_merged.csv\n",
            "Combined data saved to: /content/drive/MyDrive/output_none/pilot28_merged.csv\n",
            "Combined data saved to: /content/drive/MyDrive/output_none/pilot29_merged.csv\n",
            "Combined data saved to: /content/drive/MyDrive/output_none/pilot30_merged.csv\n",
            "Combined data saved to: /content/drive/MyDrive/output_none/pilot31_merged.csv\n",
            "Combined data saved to: /content/drive/MyDrive/output_none/pilot32_merged.csv\n",
            "Combined data saved to: /content/drive/MyDrive/output_none/pilot33_merged.csv\n"
          ]
        }
      ]
    }
  ]
}